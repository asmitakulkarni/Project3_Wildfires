{
 "cells": [
  {
   "cell_type": "code",
   "execution_count": 36,
   "metadata": {},
   "outputs": [],
   "source": [
    "import sqlite3\n",
    "import pandas as pd\n",
    "import pandas.io.sql as pd_sql\n",
    "import numpy as np\n",
    "import datetime, time\n",
    "import matplotlib.pyplot as plt\n",
    "import seaborn as sns\n",
    "import pickle\n",
    "from sklearn import preprocessing\n",
    "from sklearn.neighbors import KNeighborsClassifier\n",
    "from sklearn.linear_model import LogisticRegression\n",
    "from sklearn.naive_bayes import BernoulliNB, MultinomialNB, GaussianNB\n",
    "from sklearn.svm import LinearSVC , SVC\n",
    "from sklearn.tree import DecisionTreeClassifier\n",
    "from sklearn.ensemble import RandomForestClassifier\n",
    "from sklearn.dummy import DummyClassifier\n",
    "from sklearn.model_selection import train_test_split\n",
    "from sklearn.metrics import precision_score, recall_score, precision_recall_curve,f1_score, fbeta_score, confusion_matrix , roc_auc_score, roc_curve, accuracy_score\n",
    "import xgboost as xgb\n",
    "%matplotlib inline"
   ]
  },
  {
   "cell_type": "markdown",
   "metadata": {},
   "source": [
    "#### Reading the dataframe pickled in previous notebook after cleaning and EDA"
   ]
  },
  {
   "cell_type": "code",
   "execution_count": 2,
   "metadata": {},
   "outputs": [],
   "source": [
    "fire_clean_model_df = pd.read_pickle(\"./fire_clean_model.pkl\")\n",
    "\n"
   ]
  },
  {
   "cell_type": "code",
   "execution_count": 3,
   "metadata": {},
   "outputs": [
    {
     "data": {
      "text/html": [
       "<div>\n",
       "<style scoped>\n",
       "    .dataframe tbody tr th:only-of-type {\n",
       "        vertical-align: middle;\n",
       "    }\n",
       "\n",
       "    .dataframe tbody tr th {\n",
       "        vertical-align: top;\n",
       "    }\n",
       "\n",
       "    .dataframe thead th {\n",
       "        text-align: right;\n",
       "    }\n",
       "</style>\n",
       "<table border=\"1\" class=\"dataframe\">\n",
       "  <thead>\n",
       "    <tr style=\"text-align: right;\">\n",
       "      <th></th>\n",
       "      <th>DISCOVERY_DOY</th>\n",
       "      <th>FIRE_SIZE</th>\n",
       "      <th>LATITUDE</th>\n",
       "      <th>LONGITUDE</th>\n",
       "      <th>CAUSE_LABEL</th>\n",
       "      <th>AK</th>\n",
       "      <th>AL</th>\n",
       "      <th>AR</th>\n",
       "      <th>AZ</th>\n",
       "      <th>CA</th>\n",
       "      <th>...</th>\n",
       "      <th>VT</th>\n",
       "      <th>WA</th>\n",
       "      <th>WI</th>\n",
       "      <th>WV</th>\n",
       "      <th>WY</th>\n",
       "      <th>DAYS_TO_CONT</th>\n",
       "      <th>fall</th>\n",
       "      <th>spring</th>\n",
       "      <th>summer</th>\n",
       "      <th>winter</th>\n",
       "    </tr>\n",
       "  </thead>\n",
       "  <tbody>\n",
       "    <tr>\n",
       "      <th>1</th>\n",
       "      <td>133</td>\n",
       "      <td>0.25</td>\n",
       "      <td>38.933056</td>\n",
       "      <td>-120.404444</td>\n",
       "      <td>0</td>\n",
       "      <td>0</td>\n",
       "      <td>0</td>\n",
       "      <td>0</td>\n",
       "      <td>0</td>\n",
       "      <td>1</td>\n",
       "      <td>...</td>\n",
       "      <td>0</td>\n",
       "      <td>0</td>\n",
       "      <td>0</td>\n",
       "      <td>0</td>\n",
       "      <td>0</td>\n",
       "      <td>0</td>\n",
       "      <td>0</td>\n",
       "      <td>1</td>\n",
       "      <td>0</td>\n",
       "      <td>0</td>\n",
       "    </tr>\n",
       "    <tr>\n",
       "      <th>2</th>\n",
       "      <td>152</td>\n",
       "      <td>0.10</td>\n",
       "      <td>38.984167</td>\n",
       "      <td>-120.735556</td>\n",
       "      <td>1</td>\n",
       "      <td>0</td>\n",
       "      <td>0</td>\n",
       "      <td>0</td>\n",
       "      <td>0</td>\n",
       "      <td>1</td>\n",
       "      <td>...</td>\n",
       "      <td>0</td>\n",
       "      <td>0</td>\n",
       "      <td>0</td>\n",
       "      <td>0</td>\n",
       "      <td>0</td>\n",
       "      <td>0</td>\n",
       "      <td>0</td>\n",
       "      <td>1</td>\n",
       "      <td>0</td>\n",
       "      <td>0</td>\n",
       "    </tr>\n",
       "    <tr>\n",
       "      <th>3</th>\n",
       "      <td>180</td>\n",
       "      <td>0.10</td>\n",
       "      <td>38.559167</td>\n",
       "      <td>-119.913333</td>\n",
       "      <td>0</td>\n",
       "      <td>0</td>\n",
       "      <td>0</td>\n",
       "      <td>0</td>\n",
       "      <td>0</td>\n",
       "      <td>1</td>\n",
       "      <td>...</td>\n",
       "      <td>0</td>\n",
       "      <td>0</td>\n",
       "      <td>0</td>\n",
       "      <td>0</td>\n",
       "      <td>0</td>\n",
       "      <td>5</td>\n",
       "      <td>0</td>\n",
       "      <td>0</td>\n",
       "      <td>1</td>\n",
       "      <td>0</td>\n",
       "    </tr>\n",
       "    <tr>\n",
       "      <th>4</th>\n",
       "      <td>180</td>\n",
       "      <td>0.10</td>\n",
       "      <td>38.559167</td>\n",
       "      <td>-119.933056</td>\n",
       "      <td>0</td>\n",
       "      <td>0</td>\n",
       "      <td>0</td>\n",
       "      <td>0</td>\n",
       "      <td>0</td>\n",
       "      <td>1</td>\n",
       "      <td>...</td>\n",
       "      <td>0</td>\n",
       "      <td>0</td>\n",
       "      <td>0</td>\n",
       "      <td>0</td>\n",
       "      <td>0</td>\n",
       "      <td>5</td>\n",
       "      <td>0</td>\n",
       "      <td>0</td>\n",
       "      <td>1</td>\n",
       "      <td>0</td>\n",
       "    </tr>\n",
       "    <tr>\n",
       "      <th>5</th>\n",
       "      <td>182</td>\n",
       "      <td>0.10</td>\n",
       "      <td>38.635278</td>\n",
       "      <td>-120.103611</td>\n",
       "      <td>0</td>\n",
       "      <td>0</td>\n",
       "      <td>0</td>\n",
       "      <td>0</td>\n",
       "      <td>0</td>\n",
       "      <td>1</td>\n",
       "      <td>...</td>\n",
       "      <td>0</td>\n",
       "      <td>0</td>\n",
       "      <td>0</td>\n",
       "      <td>0</td>\n",
       "      <td>0</td>\n",
       "      <td>1</td>\n",
       "      <td>0</td>\n",
       "      <td>0</td>\n",
       "      <td>1</td>\n",
       "      <td>0</td>\n",
       "    </tr>\n",
       "  </tbody>\n",
       "</table>\n",
       "<p>5 rows × 62 columns</p>\n",
       "</div>"
      ],
      "text/plain": [
       "   DISCOVERY_DOY  FIRE_SIZE   LATITUDE   LONGITUDE  CAUSE_LABEL  AK  AL  AR  \\\n",
       "1            133       0.25  38.933056 -120.404444            0   0   0   0   \n",
       "2            152       0.10  38.984167 -120.735556            1   0   0   0   \n",
       "3            180       0.10  38.559167 -119.913333            0   0   0   0   \n",
       "4            180       0.10  38.559167 -119.933056            0   0   0   0   \n",
       "5            182       0.10  38.635278 -120.103611            0   0   0   0   \n",
       "\n",
       "   AZ  CA  ...  VT  WA  WI  WV  WY  DAYS_TO_CONT  fall  spring  summer  winter  \n",
       "1   0   1  ...   0   0   0   0   0             0     0       1       0       0  \n",
       "2   0   1  ...   0   0   0   0   0             0     0       1       0       0  \n",
       "3   0   1  ...   0   0   0   0   0             5     0       0       1       0  \n",
       "4   0   1  ...   0   0   0   0   0             5     0       0       1       0  \n",
       "5   0   1  ...   0   0   0   0   0             1     0       0       1       0  \n",
       "\n",
       "[5 rows x 62 columns]"
      ]
     },
     "execution_count": 3,
     "metadata": {},
     "output_type": "execute_result"
    }
   ],
   "source": [
    "fire_clean_model_df.head()\n",
    "\n"
   ]
  },
  {
   "cell_type": "code",
   "execution_count": 4,
   "metadata": {},
   "outputs": [
    {
     "data": {
      "text/plain": [
       "Index(['DISCOVERY_DOY', 'FIRE_SIZE', 'LATITUDE', 'LONGITUDE', 'CAUSE_LABEL',\n",
       "       'AK', 'AL', 'AR', 'AZ', 'CA', 'CO', 'CT', 'DC', 'DE', 'FL', 'GA', 'HI',\n",
       "       'IA', 'ID', 'IL', 'IN', 'KS', 'KY', 'LA', 'MA', 'MD', 'ME', 'MI', 'MN',\n",
       "       'MO', 'MS', 'MT', 'NC', 'ND', 'NE', 'NH', 'NJ', 'NM', 'NV', 'NY', 'OH',\n",
       "       'OK', 'OR', 'PA', 'PR', 'RI', 'SC', 'SD', 'TN', 'TX', 'UT', 'VA', 'VT',\n",
       "       'WA', 'WI', 'WV', 'WY', 'DAYS_TO_CONT', 'fall', 'spring', 'summer',\n",
       "       'winter'],\n",
       "      dtype='object')"
      ]
     },
     "execution_count": 4,
     "metadata": {},
     "output_type": "execute_result"
    }
   ],
   "source": [
    "fire_clean_model_df.columns\n"
   ]
  },
  {
   "cell_type": "markdown",
   "metadata": {},
   "source": [
    "#### Create X & Y subsets from dataframe"
   ]
  },
  {
   "cell_type": "code",
   "execution_count": 5,
   "metadata": {},
   "outputs": [],
   "source": [
    "X = fire_clean_model_df.drop(['CAUSE_LABEL'], axis = 1)\n",
    "\n",
    "\n"
   ]
  },
  {
   "cell_type": "code",
   "execution_count": 6,
   "metadata": {},
   "outputs": [],
   "source": [
    "Y = fire_clean_model_df['CAUSE_LABEL']\n",
    "\n"
   ]
  },
  {
   "cell_type": "code",
   "execution_count": 7,
   "metadata": {},
   "outputs": [
    {
     "data": {
      "text/plain": [
       "Index(['DISCOVERY_DOY', 'FIRE_SIZE', 'LATITUDE', 'LONGITUDE', 'AK', 'AL', 'AR',\n",
       "       'AZ', 'CA', 'CO', 'CT', 'DC', 'DE', 'FL', 'GA', 'HI', 'IA', 'ID', 'IL',\n",
       "       'IN', 'KS', 'KY', 'LA', 'MA', 'MD', 'ME', 'MI', 'MN', 'MO', 'MS', 'MT',\n",
       "       'NC', 'ND', 'NE', 'NH', 'NJ', 'NM', 'NV', 'NY', 'OH', 'OK', 'OR', 'PA',\n",
       "       'PR', 'RI', 'SC', 'SD', 'TN', 'TX', 'UT', 'VA', 'VT', 'WA', 'WI', 'WV',\n",
       "       'WY', 'DAYS_TO_CONT', 'fall', 'spring', 'summer', 'winter'],\n",
       "      dtype='object')"
      ]
     },
     "execution_count": 7,
     "metadata": {},
     "output_type": "execute_result"
    }
   ],
   "source": [
    "X.columns\n",
    "\n"
   ]
  },
  {
   "cell_type": "markdown",
   "metadata": {},
   "source": [
    "#### Creating Train Test Validate Subsets"
   ]
  },
  {
   "cell_type": "markdown",
   "metadata": {},
   "source": [
    "##### Subset for RandomForest/XGBoost/DecisionTree"
   ]
  },
  {
   "cell_type": "code",
   "execution_count": 9,
   "metadata": {},
   "outputs": [],
   "source": [
    "X_rf = X.copy() #.drop(['STATE','SEASON'], axis = 1)\n"
   ]
  },
  {
   "cell_type": "code",
   "execution_count": 10,
   "metadata": {},
   "outputs": [
    {
     "data": {
      "text/html": [
       "<div>\n",
       "<style scoped>\n",
       "    .dataframe tbody tr th:only-of-type {\n",
       "        vertical-align: middle;\n",
       "    }\n",
       "\n",
       "    .dataframe tbody tr th {\n",
       "        vertical-align: top;\n",
       "    }\n",
       "\n",
       "    .dataframe thead th {\n",
       "        text-align: right;\n",
       "    }\n",
       "</style>\n",
       "<table border=\"1\" class=\"dataframe\">\n",
       "  <thead>\n",
       "    <tr style=\"text-align: right;\">\n",
       "      <th></th>\n",
       "      <th>DISCOVERY_DOY</th>\n",
       "      <th>FIRE_SIZE</th>\n",
       "      <th>LATITUDE</th>\n",
       "      <th>LONGITUDE</th>\n",
       "      <th>AK</th>\n",
       "      <th>AL</th>\n",
       "      <th>AR</th>\n",
       "      <th>AZ</th>\n",
       "      <th>CA</th>\n",
       "      <th>CO</th>\n",
       "      <th>...</th>\n",
       "      <th>VT</th>\n",
       "      <th>WA</th>\n",
       "      <th>WI</th>\n",
       "      <th>WV</th>\n",
       "      <th>WY</th>\n",
       "      <th>DAYS_TO_CONT</th>\n",
       "      <th>fall</th>\n",
       "      <th>spring</th>\n",
       "      <th>summer</th>\n",
       "      <th>winter</th>\n",
       "    </tr>\n",
       "  </thead>\n",
       "  <tbody>\n",
       "    <tr>\n",
       "      <th>1</th>\n",
       "      <td>133</td>\n",
       "      <td>0.25</td>\n",
       "      <td>38.933056</td>\n",
       "      <td>-120.404444</td>\n",
       "      <td>0</td>\n",
       "      <td>0</td>\n",
       "      <td>0</td>\n",
       "      <td>0</td>\n",
       "      <td>1</td>\n",
       "      <td>0</td>\n",
       "      <td>...</td>\n",
       "      <td>0</td>\n",
       "      <td>0</td>\n",
       "      <td>0</td>\n",
       "      <td>0</td>\n",
       "      <td>0</td>\n",
       "      <td>0</td>\n",
       "      <td>0</td>\n",
       "      <td>1</td>\n",
       "      <td>0</td>\n",
       "      <td>0</td>\n",
       "    </tr>\n",
       "    <tr>\n",
       "      <th>2</th>\n",
       "      <td>152</td>\n",
       "      <td>0.10</td>\n",
       "      <td>38.984167</td>\n",
       "      <td>-120.735556</td>\n",
       "      <td>0</td>\n",
       "      <td>0</td>\n",
       "      <td>0</td>\n",
       "      <td>0</td>\n",
       "      <td>1</td>\n",
       "      <td>0</td>\n",
       "      <td>...</td>\n",
       "      <td>0</td>\n",
       "      <td>0</td>\n",
       "      <td>0</td>\n",
       "      <td>0</td>\n",
       "      <td>0</td>\n",
       "      <td>0</td>\n",
       "      <td>0</td>\n",
       "      <td>1</td>\n",
       "      <td>0</td>\n",
       "      <td>0</td>\n",
       "    </tr>\n",
       "    <tr>\n",
       "      <th>3</th>\n",
       "      <td>180</td>\n",
       "      <td>0.10</td>\n",
       "      <td>38.559167</td>\n",
       "      <td>-119.913333</td>\n",
       "      <td>0</td>\n",
       "      <td>0</td>\n",
       "      <td>0</td>\n",
       "      <td>0</td>\n",
       "      <td>1</td>\n",
       "      <td>0</td>\n",
       "      <td>...</td>\n",
       "      <td>0</td>\n",
       "      <td>0</td>\n",
       "      <td>0</td>\n",
       "      <td>0</td>\n",
       "      <td>0</td>\n",
       "      <td>5</td>\n",
       "      <td>0</td>\n",
       "      <td>0</td>\n",
       "      <td>1</td>\n",
       "      <td>0</td>\n",
       "    </tr>\n",
       "    <tr>\n",
       "      <th>4</th>\n",
       "      <td>180</td>\n",
       "      <td>0.10</td>\n",
       "      <td>38.559167</td>\n",
       "      <td>-119.933056</td>\n",
       "      <td>0</td>\n",
       "      <td>0</td>\n",
       "      <td>0</td>\n",
       "      <td>0</td>\n",
       "      <td>1</td>\n",
       "      <td>0</td>\n",
       "      <td>...</td>\n",
       "      <td>0</td>\n",
       "      <td>0</td>\n",
       "      <td>0</td>\n",
       "      <td>0</td>\n",
       "      <td>0</td>\n",
       "      <td>5</td>\n",
       "      <td>0</td>\n",
       "      <td>0</td>\n",
       "      <td>1</td>\n",
       "      <td>0</td>\n",
       "    </tr>\n",
       "    <tr>\n",
       "      <th>5</th>\n",
       "      <td>182</td>\n",
       "      <td>0.10</td>\n",
       "      <td>38.635278</td>\n",
       "      <td>-120.103611</td>\n",
       "      <td>0</td>\n",
       "      <td>0</td>\n",
       "      <td>0</td>\n",
       "      <td>0</td>\n",
       "      <td>1</td>\n",
       "      <td>0</td>\n",
       "      <td>...</td>\n",
       "      <td>0</td>\n",
       "      <td>0</td>\n",
       "      <td>0</td>\n",
       "      <td>0</td>\n",
       "      <td>0</td>\n",
       "      <td>1</td>\n",
       "      <td>0</td>\n",
       "      <td>0</td>\n",
       "      <td>1</td>\n",
       "      <td>0</td>\n",
       "    </tr>\n",
       "  </tbody>\n",
       "</table>\n",
       "<p>5 rows × 61 columns</p>\n",
       "</div>"
      ],
      "text/plain": [
       "   DISCOVERY_DOY  FIRE_SIZE   LATITUDE   LONGITUDE  AK  AL  AR  AZ  CA  CO  \\\n",
       "1            133       0.25  38.933056 -120.404444   0   0   0   0   1   0   \n",
       "2            152       0.10  38.984167 -120.735556   0   0   0   0   1   0   \n",
       "3            180       0.10  38.559167 -119.913333   0   0   0   0   1   0   \n",
       "4            180       0.10  38.559167 -119.933056   0   0   0   0   1   0   \n",
       "5            182       0.10  38.635278 -120.103611   0   0   0   0   1   0   \n",
       "\n",
       "   ...  VT  WA  WI  WV  WY  DAYS_TO_CONT  fall  spring  summer  winter  \n",
       "1  ...   0   0   0   0   0             0     0       1       0       0  \n",
       "2  ...   0   0   0   0   0             0     0       1       0       0  \n",
       "3  ...   0   0   0   0   0             5     0       0       1       0  \n",
       "4  ...   0   0   0   0   0             5     0       0       1       0  \n",
       "5  ...   0   0   0   0   0             1     0       0       1       0  \n",
       "\n",
       "[5 rows x 61 columns]"
      ]
     },
     "execution_count": 10,
     "metadata": {},
     "output_type": "execute_result"
    }
   ],
   "source": [
    "X_rf.head()\n",
    "\n"
   ]
  },
  {
   "cell_type": "code",
   "execution_count": 11,
   "metadata": {},
   "outputs": [],
   "source": [
    "X_train_val_rf, X_test_rf, y_train_val_rf, y_test_rf = train_test_split(X_rf, Y, test_size=0.2)\n",
    "X_train_rf, X_val_rf, y_train_rf, y_val_rf = train_test_split(X_train_val_rf, y_train_val_rf, test_size=.25)\n",
    "\n"
   ]
  },
  {
   "cell_type": "markdown",
   "metadata": {},
   "source": [
    "##### Subset for LogisticReg"
   ]
  },
  {
   "cell_type": "code",
   "execution_count": 12,
   "metadata": {},
   "outputs": [],
   "source": [
    "X_lr = X.drop(['DISCOVERY_DOY','LATITUDE','LONGITUDE'], axis = 1)\n",
    "\n"
   ]
  },
  {
   "cell_type": "code",
   "execution_count": 13,
   "metadata": {},
   "outputs": [
    {
     "data": {
      "text/html": [
       "<div>\n",
       "<style scoped>\n",
       "    .dataframe tbody tr th:only-of-type {\n",
       "        vertical-align: middle;\n",
       "    }\n",
       "\n",
       "    .dataframe tbody tr th {\n",
       "        vertical-align: top;\n",
       "    }\n",
       "\n",
       "    .dataframe thead th {\n",
       "        text-align: right;\n",
       "    }\n",
       "</style>\n",
       "<table border=\"1\" class=\"dataframe\">\n",
       "  <thead>\n",
       "    <tr style=\"text-align: right;\">\n",
       "      <th></th>\n",
       "      <th>FIRE_SIZE</th>\n",
       "      <th>AK</th>\n",
       "      <th>AL</th>\n",
       "      <th>AR</th>\n",
       "      <th>AZ</th>\n",
       "      <th>CA</th>\n",
       "      <th>CO</th>\n",
       "      <th>CT</th>\n",
       "      <th>DC</th>\n",
       "      <th>DE</th>\n",
       "      <th>...</th>\n",
       "      <th>VT</th>\n",
       "      <th>WA</th>\n",
       "      <th>WI</th>\n",
       "      <th>WV</th>\n",
       "      <th>WY</th>\n",
       "      <th>DAYS_TO_CONT</th>\n",
       "      <th>fall</th>\n",
       "      <th>spring</th>\n",
       "      <th>summer</th>\n",
       "      <th>winter</th>\n",
       "    </tr>\n",
       "  </thead>\n",
       "  <tbody>\n",
       "    <tr>\n",
       "      <th>1</th>\n",
       "      <td>0.25</td>\n",
       "      <td>0</td>\n",
       "      <td>0</td>\n",
       "      <td>0</td>\n",
       "      <td>0</td>\n",
       "      <td>1</td>\n",
       "      <td>0</td>\n",
       "      <td>0</td>\n",
       "      <td>0</td>\n",
       "      <td>0</td>\n",
       "      <td>...</td>\n",
       "      <td>0</td>\n",
       "      <td>0</td>\n",
       "      <td>0</td>\n",
       "      <td>0</td>\n",
       "      <td>0</td>\n",
       "      <td>0</td>\n",
       "      <td>0</td>\n",
       "      <td>1</td>\n",
       "      <td>0</td>\n",
       "      <td>0</td>\n",
       "    </tr>\n",
       "    <tr>\n",
       "      <th>2</th>\n",
       "      <td>0.10</td>\n",
       "      <td>0</td>\n",
       "      <td>0</td>\n",
       "      <td>0</td>\n",
       "      <td>0</td>\n",
       "      <td>1</td>\n",
       "      <td>0</td>\n",
       "      <td>0</td>\n",
       "      <td>0</td>\n",
       "      <td>0</td>\n",
       "      <td>...</td>\n",
       "      <td>0</td>\n",
       "      <td>0</td>\n",
       "      <td>0</td>\n",
       "      <td>0</td>\n",
       "      <td>0</td>\n",
       "      <td>0</td>\n",
       "      <td>0</td>\n",
       "      <td>1</td>\n",
       "      <td>0</td>\n",
       "      <td>0</td>\n",
       "    </tr>\n",
       "    <tr>\n",
       "      <th>3</th>\n",
       "      <td>0.10</td>\n",
       "      <td>0</td>\n",
       "      <td>0</td>\n",
       "      <td>0</td>\n",
       "      <td>0</td>\n",
       "      <td>1</td>\n",
       "      <td>0</td>\n",
       "      <td>0</td>\n",
       "      <td>0</td>\n",
       "      <td>0</td>\n",
       "      <td>...</td>\n",
       "      <td>0</td>\n",
       "      <td>0</td>\n",
       "      <td>0</td>\n",
       "      <td>0</td>\n",
       "      <td>0</td>\n",
       "      <td>5</td>\n",
       "      <td>0</td>\n",
       "      <td>0</td>\n",
       "      <td>1</td>\n",
       "      <td>0</td>\n",
       "    </tr>\n",
       "    <tr>\n",
       "      <th>4</th>\n",
       "      <td>0.10</td>\n",
       "      <td>0</td>\n",
       "      <td>0</td>\n",
       "      <td>0</td>\n",
       "      <td>0</td>\n",
       "      <td>1</td>\n",
       "      <td>0</td>\n",
       "      <td>0</td>\n",
       "      <td>0</td>\n",
       "      <td>0</td>\n",
       "      <td>...</td>\n",
       "      <td>0</td>\n",
       "      <td>0</td>\n",
       "      <td>0</td>\n",
       "      <td>0</td>\n",
       "      <td>0</td>\n",
       "      <td>5</td>\n",
       "      <td>0</td>\n",
       "      <td>0</td>\n",
       "      <td>1</td>\n",
       "      <td>0</td>\n",
       "    </tr>\n",
       "    <tr>\n",
       "      <th>5</th>\n",
       "      <td>0.10</td>\n",
       "      <td>0</td>\n",
       "      <td>0</td>\n",
       "      <td>0</td>\n",
       "      <td>0</td>\n",
       "      <td>1</td>\n",
       "      <td>0</td>\n",
       "      <td>0</td>\n",
       "      <td>0</td>\n",
       "      <td>0</td>\n",
       "      <td>...</td>\n",
       "      <td>0</td>\n",
       "      <td>0</td>\n",
       "      <td>0</td>\n",
       "      <td>0</td>\n",
       "      <td>0</td>\n",
       "      <td>1</td>\n",
       "      <td>0</td>\n",
       "      <td>0</td>\n",
       "      <td>1</td>\n",
       "      <td>0</td>\n",
       "    </tr>\n",
       "  </tbody>\n",
       "</table>\n",
       "<p>5 rows × 58 columns</p>\n",
       "</div>"
      ],
      "text/plain": [
       "   FIRE_SIZE  AK  AL  AR  AZ  CA  CO  CT  DC  DE  ...  VT  WA  WI  WV  WY  \\\n",
       "1       0.25   0   0   0   0   1   0   0   0   0  ...   0   0   0   0   0   \n",
       "2       0.10   0   0   0   0   1   0   0   0   0  ...   0   0   0   0   0   \n",
       "3       0.10   0   0   0   0   1   0   0   0   0  ...   0   0   0   0   0   \n",
       "4       0.10   0   0   0   0   1   0   0   0   0  ...   0   0   0   0   0   \n",
       "5       0.10   0   0   0   0   1   0   0   0   0  ...   0   0   0   0   0   \n",
       "\n",
       "   DAYS_TO_CONT  fall  spring  summer  winter  \n",
       "1             0     0       1       0       0  \n",
       "2             0     0       1       0       0  \n",
       "3             5     0       0       1       0  \n",
       "4             5     0       0       1       0  \n",
       "5             1     0       0       1       0  \n",
       "\n",
       "[5 rows x 58 columns]"
      ]
     },
     "execution_count": 13,
     "metadata": {},
     "output_type": "execute_result"
    }
   ],
   "source": [
    "X_lr.head()\n"
   ]
  },
  {
   "cell_type": "code",
   "execution_count": 14,
   "metadata": {},
   "outputs": [],
   "source": [
    "X_train_val_lr, X_test_lr, y_train_val_lr, y_test_lr = train_test_split(X_lr, Y, test_size=0.2)\n",
    "X_train_lr, X_val_lr, y_train_lr, y_val_lr = train_test_split(X_train_val_lr, y_train_val_lr, test_size=.25)\n",
    "\n"
   ]
  },
  {
   "cell_type": "markdown",
   "metadata": {},
   "source": [
    "#### Initial knn model"
   ]
  },
  {
   "cell_type": "code",
   "execution_count": null,
   "metadata": {},
   "outputs": [
    {
     "name": "stdout",
     "output_type": "stream",
     "text": [
      "The score for kNN is\n"
     ]
    }
   ],
   "source": [
    "knn = KNeighborsClassifier(n_neighbors=5, n_jobs=-1)\n",
    "knn.fit(X_train_lr, y_train_lr)\n",
    "print(\"The score for kNN is\")\n",
    "print(\"Training: {:6.2f}%\".format(100*knn.score(X_train_lr, y_train_lr)))\n",
    "print(\"Test set: {:6.2f}%\".format(100*knn.score(X_val_lr, y_val_lr)))\n",
    "\n"
   ]
  },
  {
   "cell_type": "code",
   "execution_count": null,
   "metadata": {},
   "outputs": [],
   "source": [
    "print(\"kNN confusion matrix: \\n\\n\", confusion_matrix(y_val_lr, knn.predict(X_val_lr)))\n",
    "\n"
   ]
  },
  {
   "cell_type": "code",
   "execution_count": null,
   "metadata": {},
   "outputs": [],
   "source": [
    "knn_confusion = confusion_matrix(label_test, knn.predict(X_test))\n",
    "plt.figure(dpi=100)\n",
    "sns.heatmap(knn_confusion, cmap=plt.cm.Blues, annot=True, square=True,\n",
    "           xticklabels=fire_clean_model_df.CAUSE_LABEL,\n",
    "           yticklabels=fire_clean_model_df.CAUSE_LABEL)\n",
    "\n",
    "plt.xlabel('Predicted')\n",
    "plt.ylabel('Actual')\n",
    "plt.title('kNN confusion matrix');"
   ]
  },
  {
   "cell_type": "code",
   "execution_count": null,
   "metadata": {},
   "outputs": [],
   "source": [
    "y_predict_knn = knn.predict(X_val_lr)\n",
    "print(\"Default threshold:\")\n",
    "print(\"Precision: {},   Recall: {}\".format(precision_score(y_val_lr, y_predict_knn), \n",
    "                                                     recall_score(y_val_lr, y_predict_knn)))"
   ]
  },
  {
   "cell_type": "markdown",
   "metadata": {},
   "source": [
    "#### Initial Logistic Regression"
   ]
  },
  {
   "cell_type": "code",
   "execution_count": 15,
   "metadata": {},
   "outputs": [
    {
     "name": "stderr",
     "output_type": "stream",
     "text": [
      "/anaconda3/lib/python3.7/site-packages/sklearn/linear_model/logistic.py:432: FutureWarning: Default solver will be changed to 'lbfgs' in 0.22. Specify a solver to silence this warning.\n",
      "  FutureWarning)\n"
     ]
    },
    {
     "name": "stdout",
     "output_type": "stream",
     "text": [
      "The score for logistic regression is\n",
      "Training:  87.98%\n",
      "Test set:  88.06%\n"
     ]
    }
   ],
   "source": [
    "logit = LogisticRegression(C = 1.0)\n",
    "logit.fit(X_train_lr, y_train_lr)\n",
    "print(\"The score for logistic regression is\")\n",
    "#score returns mean accuracy\n",
    "print(\"Training: {:6.2f}%\".format(100*logit.score(X_train_lr, y_train_lr)))\n",
    "print(\"Test set: {:6.2f}%\".format(100*logit.score(X_val_lr, y_val_lr)))\n",
    "\n"
   ]
  },
  {
   "cell_type": "code",
   "execution_count": 16,
   "metadata": {},
   "outputs": [
    {
     "data": {
      "text/plain": [
       "(0.907746900421603, 0.9471827663217115)"
      ]
     },
     "execution_count": 16,
     "metadata": {},
     "output_type": "execute_result"
    }
   ],
   "source": [
    "y_predict_lr = logit.predict(X_val_lr)\n",
    "precision_score(y_val_lr, y_predict_lr), recall_score(y_val_lr, y_predict_lr)\n",
    "\n"
   ]
  },
  {
   "cell_type": "code",
   "execution_count": 17,
   "metadata": {},
   "outputs": [],
   "source": [
    "# plt.figure(figsize=(16,5))\n",
    "# logit.predict_proba(X_val_lr)\n"
   ]
  },
  {
   "cell_type": "code",
   "execution_count": 18,
   "metadata": {},
   "outputs": [
    {
     "data": {
      "text/plain": [
       "array([0, 1])"
      ]
     },
     "execution_count": 18,
     "metadata": {},
     "output_type": "execute_result"
    }
   ],
   "source": [
    "logit.classes_\n"
   ]
  },
  {
   "cell_type": "code",
   "execution_count": 19,
   "metadata": {},
   "outputs": [
    {
     "name": "stdout",
     "output_type": "stream",
     "text": [
      "Logistic confusion matrix: \n",
      "\n",
      " [[ 33977  21422]\n",
      " [ 11754 210787]]\n"
     ]
    }
   ],
   "source": [
    "print(\"Logistic confusion matrix: \\n\\n\", confusion_matrix(y_val_lr, logit.predict(X_val_lr)))\n"
   ]
  },
  {
   "cell_type": "code",
   "execution_count": 18,
   "metadata": {},
   "outputs": [],
   "source": [
    "# for item in zip(X.columns, logit.coef_[0]):\n",
    "#     print(item)\n"
   ]
  },
  {
   "cell_type": "code",
   "execution_count": 20,
   "metadata": {},
   "outputs": [
    {
     "name": "stdout",
     "output_type": "stream",
     "text": [
      "(58,)\n"
     ]
    }
   ],
   "source": [
    "print(logit.coef_[0].shape)\n"
   ]
  },
  {
   "cell_type": "markdown",
   "metadata": {},
   "source": [
    "#### Initial Naive Bayes"
   ]
  },
  {
   "cell_type": "code",
   "execution_count": 21,
   "metadata": {},
   "outputs": [
    {
     "data": {
      "text/plain": [
       "0.8178599697776499"
      ]
     },
     "execution_count": 21,
     "metadata": {},
     "output_type": "execute_result"
    }
   ],
   "source": [
    "nb = GaussianNB()\n",
    "nb.fit(X_train_lr, y_train_lr)\n",
    "nb.score(X_val_lr, y_val_lr)\n"
   ]
  },
  {
   "cell_type": "code",
   "execution_count": 22,
   "metadata": {},
   "outputs": [
    {
     "data": {
      "text/plain": [
       "(0.9546120445734897, 0.8110820028668875)"
      ]
     },
     "execution_count": 22,
     "metadata": {},
     "output_type": "execute_result"
    }
   ],
   "source": [
    "y_predict_nb = nb.predict(X_val_lr)\n",
    "precision_score(y_val_lr, y_predict_nb), recall_score(y_val_lr, y_predict_nb)\n"
   ]
  },
  {
   "cell_type": "code",
   "execution_count": 23,
   "metadata": {},
   "outputs": [
    {
     "name": "stdout",
     "output_type": "stream",
     "text": [
      "GaussianNB confusion matrix: \n",
      "\n",
      " [[ 46817   8582]\n",
      " [ 42042 180499]]\n"
     ]
    }
   ],
   "source": [
    "print(\"GaussianNB confusion matrix: \\n\\n\", confusion_matrix(y_val_lr,  nb.predict(X_val_lr)))\n"
   ]
  },
  {
   "cell_type": "code",
   "execution_count": 24,
   "metadata": {},
   "outputs": [
    {
     "data": {
      "text/plain": [
       "0.8509210620997337"
      ]
     },
     "execution_count": 24,
     "metadata": {},
     "output_type": "execute_result"
    }
   ],
   "source": [
    "nb_B = BernoulliNB()\n",
    "nb_B.fit(X_train_lr,y_train_lr)\n",
    "nb_B.score(X_val_lr,y_val_lr)\n"
   ]
  },
  {
   "cell_type": "code",
   "execution_count": 25,
   "metadata": {},
   "outputs": [
    {
     "data": {
      "text/plain": [
       "(0.9263484500357829, 0.884102255314751)"
      ]
     },
     "execution_count": 25,
     "metadata": {},
     "output_type": "execute_result"
    }
   ],
   "source": [
    "y_predict_nbb = nb_B.predict(X_val_lr)\n",
    "precision_score(y_val_lr, y_predict_nbb), recall_score(y_val_lr, y_predict_nbb)\n"
   ]
  },
  {
   "cell_type": "code",
   "execution_count": 26,
   "metadata": {},
   "outputs": [
    {
     "name": "stdout",
     "output_type": "stream",
     "text": [
      "BernoulliNB confusion matrix: \n",
      "\n",
      " [[ 39756  15643]\n",
      " [ 25792 196749]]\n"
     ]
    }
   ],
   "source": [
    "print(\"BernoulliNB confusion matrix: \\n\\n\", confusion_matrix(y_val_lr, nb_B.predict(X_val_lr)))\n"
   ]
  },
  {
   "cell_type": "markdown",
   "metadata": {},
   "source": [
    "#### Initial SVM"
   ]
  },
  {
   "cell_type": "code",
   "execution_count": 10,
   "metadata": {},
   "outputs": [
    {
     "name": "stderr",
     "output_type": "stream",
     "text": [
      "/anaconda3/lib/python3.7/site-packages/sklearn/svm/base.py:929: ConvergenceWarning: Liblinear failed to converge, increase the number of iterations.\n",
      "  \"the number of iterations.\", ConvergenceWarning)\n"
     ]
    },
    {
     "data": {
      "text/plain": [
       "0.8000251852917896"
      ]
     },
     "execution_count": 10,
     "metadata": {},
     "output_type": "execute_result"
    }
   ],
   "source": [
    "svm_model = LinearSVC()\n",
    "svm_model.fit(X_train, y_train)\n",
    "svm_model.score(X_val, y_val)\n"
   ]
  },
  {
   "cell_type": "code",
   "execution_count": 11,
   "metadata": {},
   "outputs": [
    {
     "data": {
      "text/plain": [
       "(0.8000237471575372, 0.9999910052124794)"
      ]
     },
     "execution_count": 11,
     "metadata": {},
     "output_type": "execute_result"
    }
   ],
   "source": [
    "y_predict = svm_model.predict(X_val)\n",
    "precision_score(y_val, y_predict), recall_score(y_val, y_predict)\n"
   ]
  },
  {
   "cell_type": "code",
   "execution_count": 12,
   "metadata": {},
   "outputs": [
    {
     "name": "stdout",
     "output_type": "stream",
     "text": [
      "SVC Linear confusion matrix: \n",
      "\n",
      " [[    10  55579]\n",
      " [     2 222349]]\n"
     ]
    }
   ],
   "source": [
    "print(\"SVC Linear confusion matrix: \\n\\n\", confusion_matrix(y_val, svm_model.predict(X_val)))\n"
   ]
  },
  {
   "cell_type": "code",
   "execution_count": null,
   "metadata": {},
   "outputs": [],
   "source": []
  },
  {
   "cell_type": "code",
   "execution_count": null,
   "metadata": {},
   "outputs": [],
   "source": [
    "svm_rbf = SVC(gamma=\"auto\")\n",
    "svm_rbf.fit(X_train, y_train)\n",
    "svm_rbf.score(X_val, y_val)\n"
   ]
  },
  {
   "cell_type": "code",
   "execution_count": null,
   "metadata": {},
   "outputs": [],
   "source": [
    "y_predict = svm_rbf.predict(X_val)\n",
    "precision_score(y_val, y_predict), recall_score(y_val, y_predict)\n"
   ]
  },
  {
   "cell_type": "code",
   "execution_count": null,
   "metadata": {},
   "outputs": [],
   "source": [
    "print(\"SVC RBF confusion matrix: \\n\\n\", confusion_matrix(y_val, svm_rbf.predict(X_val)))\n"
   ]
  },
  {
   "cell_type": "code",
   "execution_count": null,
   "metadata": {},
   "outputs": [],
   "source": []
  },
  {
   "cell_type": "code",
   "execution_count": null,
   "metadata": {},
   "outputs": [],
   "source": [
    "svm_poly = SVC(kernel=\"poly\", gamma=\"auto\")\n",
    "svm_poly.fit(X_train, y_train)\n",
    "svm_poly.score(X_val, y_val)\n",
    "\n",
    "y_predict = svm_poly.predict(X_val)\n",
    "precision_score(y_val, y_predict), recall_score(y_val, y_predict)\n",
    "\n",
    "print(\"SVC Poly confusion matrix: \\n\\n\", confusion_matrix(y_val, svm_poly.predict(X_val)))\n",
    "\n"
   ]
  },
  {
   "cell_type": "code",
   "execution_count": null,
   "metadata": {},
   "outputs": [],
   "source": []
  },
  {
   "cell_type": "markdown",
   "metadata": {},
   "source": [
    "#### Initial Decision Tree"
   ]
  },
  {
   "cell_type": "code",
   "execution_count": 27,
   "metadata": {},
   "outputs": [
    {
     "name": "stdout",
     "output_type": "stream",
     "text": [
      "0.9049814470448099 0.950548609798468\n",
      "\n",
      " Decision confusion matrix: \n",
      "\n",
      " [[ 33566  22176]\n",
      " [ 10988 211210]]\n"
     ]
    }
   ],
   "source": [
    "decisiontree = DecisionTreeClassifier(max_depth=4)\n",
    "\n",
    "\n",
    "decisiontree.fit(X_train_rf, y_train_rf)\n",
    "decisiontree.score(X_val_rf, y_val_rf)\n",
    "\n",
    "y_predict_dt = decisiontree.predict(X_val_rf)\n",
    "\n",
    "print(precision_score(y_val_rf, y_predict_dt), recall_score(y_val_rf, y_predict_dt))\n",
    "\n",
    "print(\"\\n Decision confusion matrix: \\n\\n\", confusion_matrix(y_val_rf, decisiontree.predict(X_val_rf)))\n"
   ]
  },
  {
   "cell_type": "code",
   "execution_count": null,
   "metadata": {},
   "outputs": [],
   "source": []
  },
  {
   "cell_type": "markdown",
   "metadata": {},
   "source": [
    "#### Initial RandomForest"
   ]
  },
  {
   "cell_type": "code",
   "execution_count": 28,
   "metadata": {},
   "outputs": [
    {
     "name": "stdout",
     "output_type": "stream",
     "text": [
      "0.9457601796354249 0.9629474612732788\n",
      "\n",
      " Random Forest confusion matrix: \n",
      "\n",
      " [[ 43471  12271]\n",
      " [  8233 213965]]\n"
     ]
    }
   ],
   "source": [
    "randomforest = RandomForestClassifier(n_estimators=100)\n",
    "\n",
    "\n",
    "randomforest.fit(X_train_rf, y_train_rf)\n",
    "randomforest.score(X_val_rf, y_val_rf)\n",
    "\n",
    "y_predict_rf = randomforest.predict(X_val_rf)\n",
    "\n",
    "print(precision_score(y_val_rf, y_predict_rf), recall_score(y_val_rf, y_predict_rf))\n",
    "\n",
    "print(\"\\n Random Forest confusion matrix: \\n\\n\", confusion_matrix(y_val_rf, randomforest.predict(X_val_rf)))\n"
   ]
  },
  {
   "cell_type": "code",
   "execution_count": 229,
   "metadata": {},
   "outputs": [
    {
     "name": "stdout",
     "output_type": "stream",
     "text": [
      "0.9460891270961774 0.9625587060576997\n",
      "\n",
      " Random Forest confusion matrix: \n",
      "\n",
      " [[ 43678  12181]\n",
      " [  8315 213766]]\n"
     ]
    }
   ],
   "source": [
    "y_predict_rf = randomforest.predict(X_test_rf)\n",
    "\n",
    "print(precision_score(y_test_rf, y_predict_rf), recall_score(y_test_rf, y_predict_rf))\n",
    "\n",
    "print(\"\\n Random Forest confusion matrix: \\n\\n\", confusion_matrix(y_test_rf, randomforest.predict(X_test_rf)))"
   ]
  },
  {
   "cell_type": "markdown",
   "metadata": {},
   "source": [
    "##### Feature Importance - RandomForest"
   ]
  },
  {
   "cell_type": "code",
   "execution_count": 94,
   "metadata": {
    "scrolled": true
   },
   "outputs": [
    {
     "name": "stdout",
     "output_type": "stream",
     "text": [
      "[('DISCOVERY_DOY', 0.27985492031158343), ('FIRE_SIZE', 0.16853934681759145), ('AK', 0.0037175611939843944), ('AL', 0.003927982164842918), ('AR', 0.0011073340319874441), ('AZ', 0.020923641065954124), ('CA', 0.00889622896598748), ('CO', 0.026135055964555554), ('CT', 0.00017713683985848188), ('DC', 2.8214765391105265e-06), ('DE', 2.234870266729783e-05), ('FL', 0.021063872774473646), ('GA', 0.008410207767896888), ('HI', 4.563732938502056e-05), ('IA', 8.626844661659509e-05), ('ID', 0.02256899228714975), ('IL', 0.00011904374406767788), ('IN', 0.00019826618004353206), ('KS', 0.0003040663464884796), ('KY', 0.000769918069891071), ('LA', 0.0023591576410361627), ('MA', 0.00020752875616819645), ('MD', 0.00028523099066022256), ('ME', 0.000558740060551243), ('MI', 0.0010302089832785102), ('MN', 0.0020199881927597287), ('MO', 0.0006001255400579307), ('MS', 0.004885211278906228), ('MT', 0.011289328661799845), ('NC', 0.004569197123314965), ('ND', 0.0012163667450625153), ('NE', 0.0007393658505179018), ('NH', 0.00016220397289287556), ('NJ', 0.004061396511784103), ('NM', 0.02219130553781455), ('NV', 0.014874231796705238), ('NY', 0.004075136777610946), ('OH', 7.102924023643197e-05), ('OK', 0.001822759029952933), ('OR', 0.01985084994462347), ('PA', 0.0003932510977529778), ('PR', 4.250593529638356e-05), ('RI', 2.8484831526902358e-05), ('SC', 0.002006026944380097), ('SD', 0.0037126219115665867), ('TN', 0.0019292440926524303), ('TX', 0.009438582365184307), ('UT', 0.021647071563603147), ('VA', 0.0007612332160828153), ('VT', 3.567279753299224e-05), ('WA', 0.0040553731002863245), ('WI', 0.0028070625639476324), ('WV', 0.000705279721377006), ('WY', 0.005718352729229735), ('DAYS_TO_CONT', 0.08743320576054091), ('fall', 0.016722119754871353), ('spring', 0.011505515827601363), ('summer', 0.14975139306994784), ('winter', 0.017566989599320862)]\n"
     ]
    }
   ],
   "source": [
    "# print(list(zip(X_val_rf.columns, randomforest.feature_importances_)))\n"
   ]
  },
  {
   "cell_type": "code",
   "execution_count": 29,
   "metadata": {},
   "outputs": [
    {
     "data": {
      "text/plain": [
       "array([[0.98, 0.02],\n",
       "       [0.  , 1.  ],\n",
       "       [0.  , 1.  ],\n",
       "       [0.  , 1.  ],\n",
       "       [0.07, 0.93],\n",
       "       [0.81, 0.19],\n",
       "       [0.  , 1.  ],\n",
       "       [0.  , 1.  ],\n",
       "       [0.02, 0.98]])"
      ]
     },
     "execution_count": 29,
     "metadata": {},
     "output_type": "execute_result"
    }
   ],
   "source": [
    "randomforest.predict_proba(X_val_rf.head(9))\n"
   ]
  },
  {
   "cell_type": "code",
   "execution_count": 118,
   "metadata": {},
   "outputs": [
    {
     "data": {
      "text/plain": [
       "array([30, 26, 27, 28, 32, 33, 34, 39, 42, 43, 25, 44, 46, 47, 48, 50, 51,\n",
       "       53, 54, 55, 57, 45, 24, 60, 14, 12, 11, 10,  7, 15, 16, 17,  5,  4,\n",
       "       18, 19, 20, 21,  6, 23, 40,  1, 22, 35, 52, 49, 38, 29, 37, 31,  2,\n",
       "       36, 41, 58,  9, 56,  0, 13,  3,  8, 59])"
      ]
     },
     "execution_count": 118,
     "metadata": {},
     "output_type": "execute_result"
    }
   ],
   "source": [
    "indices"
   ]
  },
  {
   "cell_type": "code",
   "execution_count": 30,
   "metadata": {},
   "outputs": [
    {
     "data": {
      "image/png": "[encoded data removed]",
      "text/plain": [
       "<Figure size 864x2160 with 1 Axes>"
      ]
     },
     "metadata": {
      "needs_background": "light"
     },
     "output_type": "display_data"
    }
   ],
   "source": [
    "importances = randomforest.feature_importances_\n",
    "indices = np.argsort(importances)\n",
    "\n",
    "plt.figure(figsize=(12,30))\n",
    "plt.title('Feature Importances')\n",
    "plt.barh(range(len(indices)), importances[indices], color='goldenrod', align='center')\n",
    "plt.yticks(range(len(indices)), [X_val_rf.columns[i] for i in indices])\n",
    "plt.xlabel('Relative Importance');\n"
   ]
  },
  {
   "cell_type": "code",
   "execution_count": null,
   "metadata": {},
   "outputs": [],
   "source": []
  },
  {
   "cell_type": "markdown",
   "metadata": {},
   "source": [
    "#### Ensembling"
   ]
  },
  {
   "cell_type": "code",
   "execution_count": 31,
   "metadata": {},
   "outputs": [
    {
     "name": "stdout",
     "output_type": "stream",
     "text": [
      "0.9215290784228978 0.9499590455359634\n",
      "\n",
      " XGBoost confusion matrix: \n",
      "\n",
      " [[ 43471  12271]\n",
      " [  8233 213965]]\n"
     ]
    }
   ],
   "source": [
    "xg = xgb.XGBClassifier()\n",
    "\n",
    "\n",
    "xg.fit(X_train_rf, y_train_rf)\n",
    "xg.score(X_val_rf, y_val_rf)\n",
    "\n",
    "y_predict_xg = xg.predict(X_val_rf)\n",
    "\n",
    "print(precision_score(y_val_rf, y_predict_xg), recall_score(y_val_rf, y_predict_xg))\n",
    "\n",
    "print(\"\\n XGBoost confusion matrix: \\n\\n\", confusion_matrix(y_val_rf, randomforest.predict(X_val_rf)))\n"
   ]
  },
  {
   "cell_type": "code",
   "execution_count": 32,
   "metadata": {},
   "outputs": [
    {
     "data": {
      "image/png": "[encoded data removed]",
      "text/plain": [
       "<Figure size 864x2160 with 1 Axes>"
      ]
     },
     "metadata": {
      "needs_background": "light"
     },
     "output_type": "display_data"
    }
   ],
   "source": [
    "importances = xg.feature_importances_\n",
    "indices = np.argsort(importances)\n",
    "\n",
    "plt.figure(figsize=(12,30))\n",
    "plt.title('Feature Importances')\n",
    "plt.barh(range(len(indices)), importances[indices], color='goldenrod', align='center')\n",
    "plt.yticks(range(len(indices)), [X_val_rf.columns[i] for i in indices])\n",
    "plt.xlabel('Relative Importance');\n"
   ]
  },
  {
   "cell_type": "markdown",
   "metadata": {},
   "source": [
    "#### ROC Plots"
   ]
  },
  {
   "cell_type": "code",
   "execution_count": 33,
   "metadata": {},
   "outputs": [
    {
     "name": "stdout",
     "output_type": "stream",
     "text": [
      "ROC AUC score RandomForest =  0.9606669819638878\n",
      "ROC AUC score Logistic =  0.9102054541324343\n",
      "ROC AUC score NB Gaussian =  0.897166799272203\n",
      "ROC AUC score NB Bernoulli =  0.901426982413032\n",
      "ROC AUC score Decision Tree =  0.9020529499376299\n",
      "ROC AUC score XGBoost =  0.9358717780129319\n"
     ]
    },
    {
     "data": {
      "image/png": "[encoded data removed]",
      "text/plain": [
       "<Figure size 720x480 with 1 Axes>"
      ]
     },
     "metadata": {
      "needs_background": "light"
     },
     "output_type": "display_data"
    }
   ],
   "source": [
    "fpr, tpr, thresholds = roc_curve(y_val_rf, randomforest.predict_proba(X_val_rf)[:,1])\n",
    "fpr_l, tpr_l, thresholds_l = roc_curve(y_val_lr, logit.predict_proba(X_val_lr)[:,1])\n",
    "fpr_nb, tpr_nb, thresholds_nb = roc_curve(y_val_lr, nb.predict_proba(X_val_lr)[:,1])\n",
    "fpr_nbb, tpr_nbb, thresholds_nbb = roc_curve(y_val_lr, nb_B.predict_proba(X_val_lr)[:,1])\n",
    "fpr_d, tpr_d, thresholds_d = roc_curve(y_val_rf, decisiontree.predict_proba(X_val_rf)[:,1])\n",
    "fpr_x, tpr_x, thresholds_x = roc_curve(y_val_rf, xg.predict_proba(X_val_rf)[:,1])\n",
    "\n",
    "plt.figure(dpi=120)\n",
    "plt.plot(fpr, tpr,lw=2, label = 'random forest')\n",
    "plt.plot(fpr_l, tpr_l,lw=2, label = 'logistic')\n",
    "plt.plot(fpr_nb, tpr_nb,lw=2, label = 'naive bayes gaussian')\n",
    "plt.plot(fpr_nbb, tpr_nbb,lw=2, label = 'naive bayes bernoulli')\n",
    "plt.plot(fpr_d, tpr_d,lw=2, label = 'decision tree')\n",
    "plt.plot(fpr_x, tpr_x,lw=2, label = 'xgboost')\n",
    "plt.plot([0,1],[0,1],c='violet',ls='--')\n",
    "plt.xlim([-0.05,1.05])\n",
    "plt.ylim([-0.05,1.05])\n",
    "\n",
    "plt.legend(loc = 'lower right')\n",
    "plt.xlabel('False positive rate')\n",
    "plt.ylabel('True positive rate')\n",
    "plt.title('ROC curve for Wildfires');\n",
    "print(\"ROC AUC score RandomForest = \", roc_auc_score(y_val_rf, randomforest.predict_proba(X_val_rf)[:,1]))\n",
    "print(\"ROC AUC score Logistic = \", roc_auc_score(y_val_lr, logit.predict_proba(X_val_lr)[:,1]))\n",
    "print(\"ROC AUC score NB Gaussian = \", roc_auc_score(y_val_lr, nb.predict_proba(X_val_lr)[:,1]))\n",
    "print(\"ROC AUC score NB Bernoulli = \", roc_auc_score(y_val_lr, nb_B.predict_proba(X_val_lr)[:,1]))\n",
    "print(\"ROC AUC score Decision Tree = \", roc_auc_score(y_val_rf, decisiontree.predict_proba(X_val_rf)[:,1]))\n",
    "print(\"ROC AUC score XGBoost = \", roc_auc_score(y_val_rf, xg.predict_proba(X_val_rf)[:,1]))\n"
   ]
  },
  {
   "cell_type": "markdown",
   "metadata": {},
   "source": [
    "#### Looking at ROC Curves --Random Forest is the best"
   ]
  },
  {
   "cell_type": "code",
   "execution_count": 34,
   "metadata": {},
   "outputs": [
    {
     "data": {
      "text/plain": [
       "array([[0.98, 0.02],\n",
       "       [0.  , 1.  ],\n",
       "       [0.  , 1.  ],\n",
       "       [0.  , 1.  ],\n",
       "       [0.07, 0.93]])"
      ]
     },
     "execution_count": 34,
     "metadata": {},
     "output_type": "execute_result"
    }
   ],
   "source": [
    "randomforest.predict_proba(X_val_rf.head(5))\n"
   ]
  },
  {
   "cell_type": "code",
   "execution_count": 35,
   "metadata": {},
   "outputs": [
    {
     "data": {
      "image/png": "[encoded data removed]",
      "text/plain": [
       "<Figure size 480x320 with 1 Axes>"
      ]
     },
     "metadata": {
      "needs_background": "light"
     },
     "output_type": "display_data"
    }
   ],
   "source": [
    "precision_curve, recall_curve, threshold_curve = precision_recall_curve(y_val_rf, randomforest.predict_proba(X_val_rf)[:,1] )\n",
    "\n",
    "plt.figure(dpi=80)\n",
    "\n",
    "plt.plot(threshold_curve, precision_curve[1:],label='precision')\n",
    "plt.plot(threshold_curve, recall_curve[1:], label='recall')\n",
    "plt.legend(loc='lower left')\n",
    "plt.xlabel('Threshold (above this probability, label as human caused)');\n",
    "plt.title('Precision and Recall Curves');"
   ]
  },
  {
   "cell_type": "code",
   "execution_count": 130,
   "metadata": {},
   "outputs": [],
   "source": [
    "threshold = 0.2\n",
    "\n",
    "predicted_proba = randomforest.predict_proba(X_val_rf)\n",
    "predicted = (predicted_proba [:,1] >= threshold).astype('int')\n",
    "\n",
    "recall = recall_score(y_val_rf, predicted)\n",
    "precision = precision_score(y_val_rf, predicted)\n"
   ]
  },
  {
   "cell_type": "code",
   "execution_count": 230,
   "metadata": {},
   "outputs": [],
   "source": [
    "threshold = 0.2\n",
    "\n",
    "predicted_proba = randomforest.predict_proba(X_test_rf)\n",
    "predicted = (predicted_proba [:,1] >= threshold).astype('int')\n",
    "\n",
    "recall = recall_score(y_test_rf, predicted)\n",
    "precision = precision_score(y_test_rf, predicted)"
   ]
  },
  {
   "cell_type": "code",
   "execution_count": 231,
   "metadata": {},
   "outputs": [
    {
     "data": {
      "text/plain": [
       "(0.9900261616257131, 0.8979326793488471)"
      ]
     },
     "execution_count": 231,
     "metadata": {},
     "output_type": "execute_result"
    }
   ],
   "source": [
    "recall, precision"
   ]
  },
  {
   "cell_type": "code",
   "execution_count": 191,
   "metadata": {},
   "outputs": [
    {
     "name": "stdout",
     "output_type": "stream",
     "text": [
      "DISCOVERY_DOY    220.000000\n",
      "FIRE_SIZE          0.500000\n",
      "LATITUDE          44.852778\n",
      "LONGITUDE       -119.520278\n",
      "AK                 0.000000\n",
      "AL                 0.000000\n",
      "AR                 0.000000\n",
      "AZ                 0.000000\n",
      "CA                 0.000000\n",
      "CO                 0.000000\n",
      "CT                 0.000000\n",
      "DC                 0.000000\n",
      "DE                 0.000000\n",
      "FL                 0.000000\n",
      "GA                 0.000000\n",
      "HI                 0.000000\n",
      "IA                 0.000000\n",
      "ID                 0.000000\n",
      "IL                 0.000000\n",
      "IN                 0.000000\n",
      "KS                 0.000000\n",
      "KY                 0.000000\n",
      "LA                 0.000000\n",
      "MA                 0.000000\n",
      "MD                 0.000000\n",
      "ME                 0.000000\n",
      "MI                 0.000000\n",
      "MN                 0.000000\n",
      "MO                 0.000000\n",
      "MS                 0.000000\n",
      "                    ...    \n",
      "NC                 0.000000\n",
      "ND                 0.000000\n",
      "NE                 0.000000\n",
      "NH                 0.000000\n",
      "NJ                 0.000000\n",
      "NM                 0.000000\n",
      "NV                 0.000000\n",
      "NY                 0.000000\n",
      "OH                 0.000000\n",
      "OK                 0.000000\n",
      "OR                 1.000000\n",
      "PA                 0.000000\n",
      "PR                 0.000000\n",
      "RI                 0.000000\n",
      "SC                 0.000000\n",
      "SD                 0.000000\n",
      "TN                 0.000000\n",
      "TX                 0.000000\n",
      "UT                 0.000000\n",
      "VA                 0.000000\n",
      "VT                 0.000000\n",
      "WA                 0.000000\n",
      "WI                 0.000000\n",
      "WV                 0.000000\n",
      "WY                 0.000000\n",
      "DAYS_TO_CONT       2.000000\n",
      "fall               0.000000\n",
      "spring             0.000000\n",
      "summer             1.000000\n",
      "winter             0.000000\n",
      "Name: 29533, Length: 61, dtype: float64\n",
      "DISCOVERY_DOY    155.00000\n",
      "FIRE_SIZE          5.00000\n",
      "LATITUDE          27.04833\n",
      "LONGITUDE        -81.29806\n",
      "AK                 0.00000\n",
      "AL                 0.00000\n",
      "AR                 0.00000\n",
      "AZ                 0.00000\n",
      "CA                 0.00000\n",
      "CO                 0.00000\n",
      "CT                 0.00000\n",
      "DC                 0.00000\n",
      "DE                 0.00000\n",
      "FL                 1.00000\n",
      "GA                 0.00000\n",
      "HI                 0.00000\n",
      "IA                 0.00000\n",
      "ID                 0.00000\n",
      "IL                 0.00000\n",
      "IN                 0.00000\n",
      "KS                 0.00000\n",
      "KY                 0.00000\n",
      "LA                 0.00000\n",
      "MA                 0.00000\n",
      "MD                 0.00000\n",
      "ME                 0.00000\n",
      "MI                 0.00000\n",
      "MN                 0.00000\n",
      "MO                 0.00000\n",
      "MS                 0.00000\n",
      "                   ...    \n",
      "NC                 0.00000\n",
      "ND                 0.00000\n",
      "NE                 0.00000\n",
      "NH                 0.00000\n",
      "NJ                 0.00000\n",
      "NM                 0.00000\n",
      "NV                 0.00000\n",
      "NY                 0.00000\n",
      "OH                 0.00000\n",
      "OK                 0.00000\n",
      "OR                 0.00000\n",
      "PA                 0.00000\n",
      "PR                 0.00000\n",
      "RI                 0.00000\n",
      "SC                 0.00000\n",
      "SD                 0.00000\n",
      "TN                 0.00000\n",
      "TX                 0.00000\n",
      "UT                 0.00000\n",
      "VA                 0.00000\n",
      "VT                 0.00000\n",
      "WA                 0.00000\n",
      "WI                 0.00000\n",
      "WV                 0.00000\n",
      "WY                 0.00000\n",
      "DAYS_TO_CONT       1.00000\n",
      "fall               0.00000\n",
      "spring             1.00000\n",
      "summer             0.00000\n",
      "winter             0.00000\n",
      "Name: 407196, Length: 61, dtype: float64\n"
     ]
    }
   ],
   "source": [
    "limit = 0\n",
    "for index, row in X_val_rf.iterrows():\n",
    "    score = randomforest.predict_proba([row])[0][1]\n",
    "    if score <= 0.2:\n",
    "        print(row)\n",
    "    limit +=1\n",
    "    if limit >= 10:\n",
    "        break\n"
   ]
  },
  {
   "cell_type": "code",
   "execution_count": 42,
   "metadata": {},
   "outputs": [
    {
     "data": {
      "text/html": [
       "<div>\n",
       "<style scoped>\n",
       "    .dataframe tbody tr th:only-of-type {\n",
       "        vertical-align: middle;\n",
       "    }\n",
       "\n",
       "    .dataframe tbody tr th {\n",
       "        vertical-align: top;\n",
       "    }\n",
       "\n",
       "    .dataframe thead th {\n",
       "        text-align: right;\n",
       "    }\n",
       "</style>\n",
       "<table border=\"1\" class=\"dataframe\">\n",
       "  <thead>\n",
       "    <tr style=\"text-align: right;\">\n",
       "      <th></th>\n",
       "      <th>DISCOVERY_DOY</th>\n",
       "      <th>FIRE_SIZE</th>\n",
       "      <th>LATITUDE</th>\n",
       "      <th>LONGITUDE</th>\n",
       "      <th>AK</th>\n",
       "      <th>AL</th>\n",
       "      <th>AR</th>\n",
       "      <th>AZ</th>\n",
       "      <th>CA</th>\n",
       "      <th>CO</th>\n",
       "      <th>...</th>\n",
       "      <th>VT</th>\n",
       "      <th>WA</th>\n",
       "      <th>WI</th>\n",
       "      <th>WV</th>\n",
       "      <th>WY</th>\n",
       "      <th>DAYS_TO_CONT</th>\n",
       "      <th>fall</th>\n",
       "      <th>spring</th>\n",
       "      <th>summer</th>\n",
       "      <th>winter</th>\n",
       "    </tr>\n",
       "  </thead>\n",
       "  <tbody>\n",
       "    <tr>\n",
       "      <th>29533</th>\n",
       "      <td>220</td>\n",
       "      <td>0.5</td>\n",
       "      <td>44.852778</td>\n",
       "      <td>-119.520278</td>\n",
       "      <td>0</td>\n",
       "      <td>0</td>\n",
       "      <td>0</td>\n",
       "      <td>0</td>\n",
       "      <td>0</td>\n",
       "      <td>0</td>\n",
       "      <td>...</td>\n",
       "      <td>0</td>\n",
       "      <td>0</td>\n",
       "      <td>0</td>\n",
       "      <td>0</td>\n",
       "      <td>0</td>\n",
       "      <td>2</td>\n",
       "      <td>0</td>\n",
       "      <td>0</td>\n",
       "      <td>1</td>\n",
       "      <td>0</td>\n",
       "    </tr>\n",
       "    <tr>\n",
       "      <th>656686</th>\n",
       "      <td>356</td>\n",
       "      <td>1.0</td>\n",
       "      <td>30.543610</td>\n",
       "      <td>-95.861960</td>\n",
       "      <td>0</td>\n",
       "      <td>0</td>\n",
       "      <td>0</td>\n",
       "      <td>0</td>\n",
       "      <td>0</td>\n",
       "      <td>0</td>\n",
       "      <td>...</td>\n",
       "      <td>0</td>\n",
       "      <td>0</td>\n",
       "      <td>0</td>\n",
       "      <td>0</td>\n",
       "      <td>0</td>\n",
       "      <td>1</td>\n",
       "      <td>0</td>\n",
       "      <td>0</td>\n",
       "      <td>0</td>\n",
       "      <td>1</td>\n",
       "    </tr>\n",
       "    <tr>\n",
       "      <th>1032563</th>\n",
       "      <td>76</td>\n",
       "      <td>1.0</td>\n",
       "      <td>35.585000</td>\n",
       "      <td>-78.455000</td>\n",
       "      <td>0</td>\n",
       "      <td>0</td>\n",
       "      <td>0</td>\n",
       "      <td>0</td>\n",
       "      <td>0</td>\n",
       "      <td>0</td>\n",
       "      <td>...</td>\n",
       "      <td>0</td>\n",
       "      <td>0</td>\n",
       "      <td>0</td>\n",
       "      <td>0</td>\n",
       "      <td>0</td>\n",
       "      <td>1</td>\n",
       "      <td>0</td>\n",
       "      <td>0</td>\n",
       "      <td>0</td>\n",
       "      <td>1</td>\n",
       "    </tr>\n",
       "    <tr>\n",
       "      <th>301348</th>\n",
       "      <td>46</td>\n",
       "      <td>1.5</td>\n",
       "      <td>33.300300</td>\n",
       "      <td>-110.451800</td>\n",
       "      <td>0</td>\n",
       "      <td>0</td>\n",
       "      <td>0</td>\n",
       "      <td>1</td>\n",
       "      <td>0</td>\n",
       "      <td>0</td>\n",
       "      <td>...</td>\n",
       "      <td>0</td>\n",
       "      <td>0</td>\n",
       "      <td>0</td>\n",
       "      <td>0</td>\n",
       "      <td>0</td>\n",
       "      <td>0</td>\n",
       "      <td>0</td>\n",
       "      <td>0</td>\n",
       "      <td>0</td>\n",
       "      <td>1</td>\n",
       "    </tr>\n",
       "    <tr>\n",
       "      <th>1349863</th>\n",
       "      <td>127</td>\n",
       "      <td>1.0</td>\n",
       "      <td>42.600087</td>\n",
       "      <td>-75.608740</td>\n",
       "      <td>0</td>\n",
       "      <td>0</td>\n",
       "      <td>0</td>\n",
       "      <td>0</td>\n",
       "      <td>0</td>\n",
       "      <td>0</td>\n",
       "      <td>...</td>\n",
       "      <td>0</td>\n",
       "      <td>0</td>\n",
       "      <td>0</td>\n",
       "      <td>0</td>\n",
       "      <td>0</td>\n",
       "      <td>1</td>\n",
       "      <td>0</td>\n",
       "      <td>1</td>\n",
       "      <td>0</td>\n",
       "      <td>0</td>\n",
       "    </tr>\n",
       "  </tbody>\n",
       "</table>\n",
       "<p>5 rows × 61 columns</p>\n",
       "</div>"
      ],
      "text/plain": [
       "         DISCOVERY_DOY  FIRE_SIZE   LATITUDE   LONGITUDE  AK  AL  AR  AZ  CA  \\\n",
       "29533              220        0.5  44.852778 -119.520278   0   0   0   0   0   \n",
       "656686             356        1.0  30.543610  -95.861960   0   0   0   0   0   \n",
       "1032563             76        1.0  35.585000  -78.455000   0   0   0   0   0   \n",
       "301348              46        1.5  33.300300 -110.451800   0   0   0   1   0   \n",
       "1349863            127        1.0  42.600087  -75.608740   0   0   0   0   0   \n",
       "\n",
       "         CO  ...  VT  WA  WI  WV  WY  DAYS_TO_CONT  fall  spring  summer  \\\n",
       "29533     0  ...   0   0   0   0   0             2     0       0       1   \n",
       "656686    0  ...   0   0   0   0   0             1     0       0       0   \n",
       "1032563   0  ...   0   0   0   0   0             1     0       0       0   \n",
       "301348    0  ...   0   0   0   0   0             0     0       0       0   \n",
       "1349863   0  ...   0   0   0   0   0             1     0       1       0   \n",
       "\n",
       "         winter  \n",
       "29533         0  \n",
       "656686        1  \n",
       "1032563       1  \n",
       "301348        1  \n",
       "1349863       0  \n",
       "\n",
       "[5 rows x 61 columns]"
      ]
     },
     "execution_count": 42,
     "metadata": {},
     "output_type": "execute_result"
    }
   ],
   "source": [
    "X_val_rf.head()"
   ]
  },
  {
   "cell_type": "code",
   "execution_count": 50,
   "metadata": {},
   "outputs": [
    {
     "data": {
      "text/html": [
       "<div>\n",
       "<style scoped>\n",
       "    .dataframe tbody tr th:only-of-type {\n",
       "        vertical-align: middle;\n",
       "    }\n",
       "\n",
       "    .dataframe tbody tr th {\n",
       "        vertical-align: top;\n",
       "    }\n",
       "\n",
       "    .dataframe thead th {\n",
       "        text-align: right;\n",
       "    }\n",
       "</style>\n",
       "<table border=\"1\" class=\"dataframe\">\n",
       "  <thead>\n",
       "    <tr style=\"text-align: right;\">\n",
       "      <th></th>\n",
       "      <th>DISCOVERY_DOY</th>\n",
       "      <th>FIRE_SIZE</th>\n",
       "      <th>LATITUDE</th>\n",
       "      <th>LONGITUDE</th>\n",
       "      <th>AK</th>\n",
       "      <th>AL</th>\n",
       "      <th>AR</th>\n",
       "      <th>AZ</th>\n",
       "      <th>CA</th>\n",
       "      <th>CO</th>\n",
       "      <th>...</th>\n",
       "      <th>VT</th>\n",
       "      <th>WA</th>\n",
       "      <th>WI</th>\n",
       "      <th>WV</th>\n",
       "      <th>WY</th>\n",
       "      <th>DAYS_TO_CONT</th>\n",
       "      <th>fall</th>\n",
       "      <th>spring</th>\n",
       "      <th>summer</th>\n",
       "      <th>winter</th>\n",
       "    </tr>\n",
       "  </thead>\n",
       "  <tbody>\n",
       "    <tr>\n",
       "      <th>29533</th>\n",
       "      <td>220</td>\n",
       "      <td>0.5</td>\n",
       "      <td>44.852778</td>\n",
       "      <td>-119.520278</td>\n",
       "      <td>0</td>\n",
       "      <td>0</td>\n",
       "      <td>0</td>\n",
       "      <td>0</td>\n",
       "      <td>0</td>\n",
       "      <td>0</td>\n",
       "      <td>...</td>\n",
       "      <td>0</td>\n",
       "      <td>0</td>\n",
       "      <td>0</td>\n",
       "      <td>0</td>\n",
       "      <td>0</td>\n",
       "      <td>2</td>\n",
       "      <td>0</td>\n",
       "      <td>0</td>\n",
       "      <td>1</td>\n",
       "      <td>0</td>\n",
       "    </tr>\n",
       "  </tbody>\n",
       "</table>\n",
       "<p>1 rows × 61 columns</p>\n",
       "</div>"
      ],
      "text/plain": [
       "       DISCOVERY_DOY  FIRE_SIZE   LATITUDE   LONGITUDE  AK  AL  AR  AZ  CA  \\\n",
       "29533            220        0.5  44.852778 -119.520278   0   0   0   0   0   \n",
       "\n",
       "       CO  ...  VT  WA  WI  WV  WY  DAYS_TO_CONT  fall  spring  summer  winter  \n",
       "29533   0  ...   0   0   0   0   0             2     0       0       1       0  \n",
       "\n",
       "[1 rows x 61 columns]"
      ]
     },
     "execution_count": 50,
     "metadata": {},
     "output_type": "execute_result"
    }
   ],
   "source": [
    "X_val_rf.head(1)"
   ]
  },
  {
   "cell_type": "code",
   "execution_count": 49,
   "metadata": {},
   "outputs": [],
   "source": [
    "state_list = ['AK', 'AL', 'AR',\n",
    "       'AZ', 'CA', 'CO', 'CT', 'DC', 'DE', 'FL', 'GA', 'HI', 'IA', 'ID', 'IL',\n",
    "       'IN', 'KS', 'KY', 'LA', 'MA', 'MD', 'ME', 'MI', 'MN', 'MO', 'MS', 'MT',\n",
    "       'NC', 'ND', 'NE', 'NH', 'NJ', 'NM', 'NV', 'NY', 'OH', 'OK', 'OR', 'PA',\n",
    "       'PR', 'RI', 'SC', 'SD', 'TN', 'TX', 'UT', 'VA', 'VT', 'WA', 'WI', 'WV',\n",
    "       'WY']"
   ]
  },
  {
   "cell_type": "code",
   "execution_count": 70,
   "metadata": {},
   "outputs": [],
   "source": [
    "season_list = ['summer','fall','spring','winter']"
   ]
  },
  {
   "cell_type": "markdown",
   "metadata": {},
   "source": [
    "#### Pickle Model to save for later"
   ]
  },
  {
   "cell_type": "code",
   "execution_count": 37,
   "metadata": {},
   "outputs": [],
   "source": [
    "saved_model_rf = pickle.dumps(randomforest)"
   ]
  },
  {
   "cell_type": "code",
   "execution_count": 57,
   "metadata": {},
   "outputs": [
    {
     "data": {
      "text/plain": [
       "{'summer': 0, 'fall': 1, 'spring': 0, 'winter': 0}"
      ]
     },
     "execution_count": 57,
     "metadata": {},
     "output_type": "execute_result"
    }
   ],
   "source": [
    "s = {}\n",
    "s_list = ['summer','fall','spring','winter']\n",
    "\n",
    "for st in s_list:\n",
    "    if st == 'fall':\n",
    "        s[st] = 1\n",
    "    else:\n",
    "        s[st] = 0\n",
    "\n",
    "s"
   ]
  },
  {
   "cell_type": "code",
   "execution_count": 55,
   "metadata": {},
   "outputs": [
    {
     "data": {
      "text/plain": [
       "Index(['DISCOVERY_DOY', 'FIRE_SIZE', 'LATITUDE', 'LONGITUDE', 'AK', 'AL', 'AR',\n",
       "       'AZ', 'CA', 'CO', 'CT', 'DC', 'DE', 'FL', 'GA', 'HI', 'IA', 'ID', 'IL',\n",
       "       'IN', 'KS', 'KY', 'LA', 'MA', 'MD', 'ME', 'MI', 'MN', 'MO', 'MS', 'MT',\n",
       "       'NC', 'ND', 'NE', 'NH', 'NJ', 'NM', 'NV', 'NY', 'OH', 'OK', 'OR', 'PA',\n",
       "       'PR', 'RI', 'SC', 'SD', 'TN', 'TX', 'UT', 'VA', 'VT', 'WA', 'WI', 'WV',\n",
       "       'WY', 'DAYS_TO_CONT', 'fall', 'spring', 'summer', 'winter'],\n",
       "      dtype='object')"
      ]
     },
     "execution_count": 55,
     "metadata": {},
     "output_type": "execute_result"
    }
   ],
   "source": [
    "X_val_rf.columns"
   ]
  },
  {
   "cell_type": "markdown",
   "metadata": {},
   "source": [
    "#### Wrap the predict in a func to pass to the tabpy client"
   ]
  },
  {
   "cell_type": "code",
   "execution_count": 226,
   "metadata": {},
   "outputs": [],
   "source": [
    "def predict_class(discovery_date, contain_date, fire_size, latitude, longitude, state):\n",
    "    \n",
    "    discovery_date = discovery_date[0]\n",
    "    contain_date = contain_date[0]\n",
    "    fire_size = fire_size[0]\n",
    "    latitude = latitude[0]\n",
    "    longitude = longitude[0]\n",
    "    state = state[0]\n",
    "    \n",
    "    #state dummies\n",
    "    dict_st = {}\n",
    "    for st in state_list:\n",
    "        if st == state:\n",
    "            dict_st[st] = 1\n",
    "        else:\n",
    "            dict_st[st] = 0\n",
    "    \n",
    "    #Discovery DayOfYear\n",
    "    discovery_date = datetime.datetime.strptime(discovery_date, '%Y/%m/%d')\n",
    "    dict_st['DISCOVERY_DOY'] = discovery_date.timetuple().tm_yday\n",
    "    discovery_doy = discovery_date.timetuple().tm_yday\n",
    "    \n",
    "    #days to cont\n",
    "    contain_date = datetime.datetime.strptime(str(contain_date), '%Y/%m/%d')\n",
    "    dict_st['DAYS_TO_CONT'] = int((contain_date - discovery_date).days)\n",
    "    \n",
    "    #fire size, lat, long\n",
    "    dict_st['FIRE_SIZE'] = fire_size\n",
    "    dict_st['LATITUDE'] = latitude\n",
    "    dict_st['LONGITUDE'] = longitude\n",
    "    \n",
    "    #season\n",
    "    if discovery_doy in range(80,172):\n",
    "        season = 'spring'\n",
    "    elif discovery_doy in range(173,264):\n",
    "        season = 'summer'\n",
    "    elif discovery_doy in range(265,355):\n",
    "        season = 'fall'\n",
    "    else:\n",
    "        season = 'winter'\n",
    "    \n",
    "    s_dict = {}\n",
    "    for s in season_list:\n",
    "        if s == season:\n",
    "            dict_st[s] = 1\n",
    "        else:\n",
    "            dict_st[s] = 0\n",
    "        \n",
    "    X = pd.DataFrame(data = dict_st, index=[0])\n",
    "    \n",
    "    cols = ['DISCOVERY_DOY', 'FIRE_SIZE', 'LATITUDE', 'LONGITUDE',\n",
    "       'AK', 'AL', 'AR', 'AZ', 'CA', 'CO', 'CT', 'DC', 'DE',\n",
    "       'FL', 'GA', 'HI', 'IA', 'ID', 'IL', 'IN', 'KS', 'KY', 'LA', 'MA', 'MD',\n",
    "       'ME', 'MI', 'MN', 'MO', 'MS', 'MT', 'NC', 'ND', 'NE', 'NH', 'NJ', 'NM',\n",
    "       'NV', 'NY', 'OH', 'OK', 'OR', 'PA', 'PR', 'RI', 'SC', 'SD', 'TN', 'TX',\n",
    "       'UT', 'VA', 'VT', 'WA', 'WI', 'WV', 'WY', 'DAYS_TO_CONT',\n",
    "       'fall', 'spring', 'summer', 'winter']\n",
    "    X = X[cols]\n",
    "\n",
    "    model_score = randomforest.predict_proba(X)[0][1]\n",
    "    \n",
    "    threshold = 0.2\n",
    "\n",
    "    if model_score > threshold:\n",
    "        return 'Human Caused'\n",
    "    else:\n",
    "        return 'Natural'"
   ]
  },
  {
   "cell_type": "code",
   "execution_count": 227,
   "metadata": {},
   "outputs": [
    {
     "data": {
      "text/plain": [
       "'Natural'"
      ]
     },
     "execution_count": 227,
     "metadata": {},
     "output_type": "execute_result"
    }
   ],
   "source": [
    "predict_class(['2017/08/08'],['2017/08/21'],[0.5],[44.852778],[-119.520278],['OR'])\n"
   ]
  },
  {
   "cell_type": "code",
   "execution_count": 99,
   "metadata": {},
   "outputs": [
    {
     "data": {
      "text/plain": [
       "array([[0.98, 0.02],\n",
       "       [0.  , 1.  ],\n",
       "       [0.  , 1.  ],\n",
       "       [0.  , 1.  ],\n",
       "       [0.07, 0.93]])"
      ]
     },
     "execution_count": 99,
     "metadata": {},
     "output_type": "execute_result"
    }
   ],
   "source": [
    "randomforest.predict_proba(X_val_rf.head(5))\n"
   ]
  },
  {
   "cell_type": "code",
   "execution_count": 101,
   "metadata": {},
   "outputs": [
    {
     "data": {
      "text/plain": [
       "29533      0\n",
       "656686     1\n",
       "1032563    1\n",
       "301348     1\n",
       "1349863    1\n",
       "Name: CAUSE_LABEL, dtype: int64"
      ]
     },
     "execution_count": 101,
     "metadata": {},
     "output_type": "execute_result"
    }
   ],
   "source": [
    "y_val_rf.head(5)"
   ]
  },
  {
   "cell_type": "code",
   "execution_count": 104,
   "metadata": {
    "scrolled": false
   },
   "outputs": [
    {
     "data": {
      "text/html": [
       "<div>\n",
       "<style scoped>\n",
       "    .dataframe tbody tr th:only-of-type {\n",
       "        vertical-align: middle;\n",
       "    }\n",
       "\n",
       "    .dataframe tbody tr th {\n",
       "        vertical-align: top;\n",
       "    }\n",
       "\n",
       "    .dataframe thead th {\n",
       "        text-align: right;\n",
       "    }\n",
       "</style>\n",
       "<table border=\"1\" class=\"dataframe\">\n",
       "  <thead>\n",
       "    <tr style=\"text-align: right;\">\n",
       "      <th></th>\n",
       "      <th>DISCOVERY_DOY</th>\n",
       "      <th>FIRE_SIZE</th>\n",
       "      <th>LATITUDE</th>\n",
       "      <th>LONGITUDE</th>\n",
       "      <th>AK</th>\n",
       "      <th>AL</th>\n",
       "      <th>AR</th>\n",
       "      <th>AZ</th>\n",
       "      <th>CA</th>\n",
       "      <th>CO</th>\n",
       "      <th>...</th>\n",
       "      <th>VT</th>\n",
       "      <th>WA</th>\n",
       "      <th>WI</th>\n",
       "      <th>WV</th>\n",
       "      <th>WY</th>\n",
       "      <th>DAYS_TO_CONT</th>\n",
       "      <th>fall</th>\n",
       "      <th>spring</th>\n",
       "      <th>summer</th>\n",
       "      <th>winter</th>\n",
       "    </tr>\n",
       "  </thead>\n",
       "  <tbody>\n",
       "    <tr>\n",
       "      <th>29533</th>\n",
       "      <td>220</td>\n",
       "      <td>0.5</td>\n",
       "      <td>44.852778</td>\n",
       "      <td>-119.520278</td>\n",
       "      <td>0</td>\n",
       "      <td>0</td>\n",
       "      <td>0</td>\n",
       "      <td>0</td>\n",
       "      <td>0</td>\n",
       "      <td>0</td>\n",
       "      <td>...</td>\n",
       "      <td>0</td>\n",
       "      <td>0</td>\n",
       "      <td>0</td>\n",
       "      <td>0</td>\n",
       "      <td>0</td>\n",
       "      <td>2</td>\n",
       "      <td>0</td>\n",
       "      <td>0</td>\n",
       "      <td>1</td>\n",
       "      <td>0</td>\n",
       "    </tr>\n",
       "  </tbody>\n",
       "</table>\n",
       "<p>1 rows × 61 columns</p>\n",
       "</div>"
      ],
      "text/plain": [
       "       DISCOVERY_DOY  FIRE_SIZE   LATITUDE   LONGITUDE  AK  AL  AR  AZ  CA  \\\n",
       "29533            220        0.5  44.852778 -119.520278   0   0   0   0   0   \n",
       "\n",
       "       CO  ...  VT  WA  WI  WV  WY  DAYS_TO_CONT  fall  spring  summer  winter  \n",
       "29533   0  ...   0   0   0   0   0             2     0       0       1       0  \n",
       "\n",
       "[1 rows x 61 columns]"
      ]
     },
     "execution_count": 104,
     "metadata": {},
     "output_type": "execute_result"
    }
   ],
   "source": [
    "X_val_rf.head(1)"
   ]
  },
  {
   "cell_type": "code",
   "execution_count": 115,
   "metadata": {},
   "outputs": [
    {
     "data": {
      "text/html": [
       "<div>\n",
       "<style scoped>\n",
       "    .dataframe tbody tr th:only-of-type {\n",
       "        vertical-align: middle;\n",
       "    }\n",
       "\n",
       "    .dataframe tbody tr th {\n",
       "        vertical-align: top;\n",
       "    }\n",
       "\n",
       "    .dataframe thead th {\n",
       "        text-align: right;\n",
       "    }\n",
       "</style>\n",
       "<table border=\"1\" class=\"dataframe\">\n",
       "  <thead>\n",
       "    <tr style=\"text-align: right;\">\n",
       "      <th></th>\n",
       "      <th>DISCOVERY_DOY</th>\n",
       "      <th>FIRE_SIZE</th>\n",
       "      <th>LATITUDE</th>\n",
       "      <th>LONGITUDE</th>\n",
       "      <th>AK</th>\n",
       "      <th>AL</th>\n",
       "      <th>AR</th>\n",
       "      <th>AZ</th>\n",
       "      <th>CA</th>\n",
       "      <th>CO</th>\n",
       "      <th>...</th>\n",
       "      <th>VT</th>\n",
       "      <th>WA</th>\n",
       "      <th>WI</th>\n",
       "      <th>WV</th>\n",
       "      <th>WY</th>\n",
       "      <th>DAYS_TO_CONT</th>\n",
       "      <th>fall</th>\n",
       "      <th>spring</th>\n",
       "      <th>summer</th>\n",
       "      <th>winter</th>\n",
       "    </tr>\n",
       "  </thead>\n",
       "  <tbody>\n",
       "    <tr>\n",
       "      <th>29532</th>\n",
       "      <td>220</td>\n",
       "      <td>0.1</td>\n",
       "      <td>44.931667</td>\n",
       "      <td>-118.888056</td>\n",
       "      <td>0</td>\n",
       "      <td>0</td>\n",
       "      <td>0</td>\n",
       "      <td>0</td>\n",
       "      <td>0</td>\n",
       "      <td>0</td>\n",
       "      <td>...</td>\n",
       "      <td>0</td>\n",
       "      <td>0</td>\n",
       "      <td>0</td>\n",
       "      <td>0</td>\n",
       "      <td>0</td>\n",
       "      <td>0</td>\n",
       "      <td>0</td>\n",
       "      <td>0</td>\n",
       "      <td>1</td>\n",
       "      <td>0</td>\n",
       "    </tr>\n",
       "    <tr>\n",
       "      <th>29533</th>\n",
       "      <td>220</td>\n",
       "      <td>0.5</td>\n",
       "      <td>44.852778</td>\n",
       "      <td>-119.520278</td>\n",
       "      <td>0</td>\n",
       "      <td>0</td>\n",
       "      <td>0</td>\n",
       "      <td>0</td>\n",
       "      <td>0</td>\n",
       "      <td>0</td>\n",
       "      <td>...</td>\n",
       "      <td>0</td>\n",
       "      <td>0</td>\n",
       "      <td>0</td>\n",
       "      <td>0</td>\n",
       "      <td>0</td>\n",
       "      <td>2</td>\n",
       "      <td>0</td>\n",
       "      <td>0</td>\n",
       "      <td>1</td>\n",
       "      <td>0</td>\n",
       "    </tr>\n",
       "    <tr>\n",
       "      <th>29534</th>\n",
       "      <td>220</td>\n",
       "      <td>375.0</td>\n",
       "      <td>45.235556</td>\n",
       "      <td>-117.444167</td>\n",
       "      <td>0</td>\n",
       "      <td>0</td>\n",
       "      <td>0</td>\n",
       "      <td>0</td>\n",
       "      <td>0</td>\n",
       "      <td>0</td>\n",
       "      <td>...</td>\n",
       "      <td>0</td>\n",
       "      <td>0</td>\n",
       "      <td>0</td>\n",
       "      <td>0</td>\n",
       "      <td>0</td>\n",
       "      <td>71</td>\n",
       "      <td>0</td>\n",
       "      <td>0</td>\n",
       "      <td>1</td>\n",
       "      <td>0</td>\n",
       "    </tr>\n",
       "  </tbody>\n",
       "</table>\n",
       "<p>3 rows × 61 columns</p>\n",
       "</div>"
      ],
      "text/plain": [
       "       DISCOVERY_DOY  FIRE_SIZE   LATITUDE   LONGITUDE  AK  AL  AR  AZ  CA  \\\n",
       "29532            220        0.1  44.931667 -118.888056   0   0   0   0   0   \n",
       "29533            220        0.5  44.852778 -119.520278   0   0   0   0   0   \n",
       "29534            220      375.0  45.235556 -117.444167   0   0   0   0   0   \n",
       "\n",
       "       CO  ...  VT  WA  WI  WV  WY  DAYS_TO_CONT  fall  spring  summer  winter  \n",
       "29532   0  ...   0   0   0   0   0             0     0       0       1       0  \n",
       "29533   0  ...   0   0   0   0   0             2     0       0       1       0  \n",
       "29534   0  ...   0   0   0   0   0            71     0       0       1       0  \n",
       "\n",
       "[3 rows x 61 columns]"
      ]
     },
     "execution_count": 115,
     "metadata": {},
     "output_type": "execute_result"
    }
   ],
   "source": [
    "X.loc[29532:29534]"
   ]
  },
  {
   "cell_type": "markdown",
   "metadata": {},
   "source": [
    "### TabPy - deploy model (RandomForest)"
   ]
  },
  {
   "cell_type": "code",
   "execution_count": 84,
   "metadata": {},
   "outputs": [],
   "source": [
    "from tabpy_tools.client import Client\n",
    "\n",
    "client = Client('http://localhost:9004/')"
   ]
  },
  {
   "cell_type": "code",
   "execution_count": 228,
   "metadata": {},
   "outputs": [],
   "source": [
    "client.deploy('Predict_Cause',predict_class,'Function to predict whether a wildfire is natural or human caused', override= True)"
   ]
  },
  {
   "cell_type": "code",
   "execution_count": null,
   "metadata": {},
   "outputs": [],
   "source": []
  }
 ],
 "metadata": {
  "kernelspec": {
   "display_name": "metis",
   "language": "python",
   "name": "metis"
  },
  "language_info": {
   "codemirror_mode": {
    "name": "ipython",
    "version": 3
   },
   "file_extension": ".py",
   "mimetype": "text/x-python",
   "name": "python",
   "nbconvert_exporter": "python",
   "pygments_lexer": "ipython3",
   "version": "3.7.3"
  }
 },
 "nbformat": 4,
 "nbformat_minor": 2
}
